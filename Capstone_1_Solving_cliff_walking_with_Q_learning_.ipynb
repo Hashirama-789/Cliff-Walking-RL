{
  "nbformat": 4,
  "nbformat_minor": 0,
  "metadata": {
    "colab": {
      "provenance": [],
      "toc_visible": true,
      "authorship_tag": "ABX9TyPop5klkwDC/nSC+hxtXq/T",
      "include_colab_link": true
    },
    "kernelspec": {
      "name": "python3",
      "display_name": "Python 3"
    },
    "language_info": {
      "name": "python"
    }
  },
  "cells": [
    {
      "cell_type": "markdown",
      "metadata": {
        "id": "view-in-github",
        "colab_type": "text"
      },
      "source": [
        "<a href=\"https://colab.research.google.com/github/Hashirama-789/Cliff-Walking-RL/blob/main/Capstone_1_Solving_cliff_walking_with_Q_learning_.ipynb\" target=\"_parent\"><img src=\"https://colab.research.google.com/assets/colab-badge.svg\" alt=\"Open In Colab\"/></a>"
      ]
    },
    {
      "cell_type": "markdown",
      "source": [
        "\n",
        "Solving Cliff Walking with Q Learning\n",
        "\n",
        "\n"
      ],
      "metadata": {
        "id": "9YINlc3OomMK"
      }
    },
    {
      "cell_type": "markdown",
      "source": [
        "# Cliff Walking description"
      ],
      "metadata": {
        "id": "zT5jYdcz1FgP"
      }
    },
    {
      "cell_type": "markdown",
      "source": [
        "This environment is a 4x12 grid, 4 rows and 12 columns. The player starts at location [3, 0], and tries to reach the goal at [3, 11]. The episode ends when the player reaches the goal.\n",
        "\n",
        "There is a cliff along the fourth row along [3, 1...10]. If the player moves to a cliff location, it returns to the start location.\n",
        "\n"
      ],
      "metadata": {
        "id": "OXbircCU1MrG"
      }
    },
    {
      "cell_type": "markdown",
      "source": [
        "# Reinforcement learning problem description"
      ],
      "metadata": {
        "id": "dXoSXMti14e5"
      }
    },
    {
      "cell_type": "markdown",
      "source": [
        "Action Space:\n",
        "\n",
        "\n",
        "*   0: Move up\n",
        "*   1: Move right\n",
        "\n",
        "* 2: Move down\n",
        "\n",
        "* 3: Move left\n",
        "\n"
      ],
      "metadata": {
        "id": "WQTUXwJ41-TT"
      }
    },
    {
      "cell_type": "markdown",
      "source": [
        "Observation Space:\n",
        "\n",
        "There are 3x12 + 1  = 37 possible states the player can be in. The player cannot be at the cliff, and cannot be at the goal since that would end the episode. The remaining locations are the first three rows plus the start location.\n",
        "\n",
        "The observation state is a number (an int()) representing the player's current location, calculated by current_row * ncols + current_col (where both the row and col start at 0). For example, the starting position is calculated as follows: 3 * 12 + 0 = 36.\n",
        "\n"
      ],
      "metadata": {
        "id": "1MKdgEfz2NJu"
      }
    },
    {
      "cell_type": "markdown",
      "source": [
        "Starting State: The episode starts in state [36] (location [3, 0])."
      ],
      "metadata": {
        "id": "sSwHKcaAqfco"
      }
    },
    {
      "cell_type": "markdown",
      "source": [
        "Reward: Each time step gives a reward of -1, but stepping into the cliff gives a reward of -100."
      ],
      "metadata": {
        "id": "UvduzjY1q4ip"
      }
    },
    {
      "cell_type": "markdown",
      "source": [
        "Episode End: The episode ends when the player enters state [47] (location [3, 11]).\n",
        "\n"
      ],
      "metadata": {
        "id": "Gr1A3IS_rmjw"
      }
    },
    {
      "cell_type": "code",
      "source": [
        "!pip install gymnasium\n"
      ],
      "metadata": {
        "colab": {
          "base_uri": "https://localhost:8080/"
        },
        "id": "gKf3WCY9kRQ9",
        "outputId": "e8cea397-4cb0-4fe3-f3b9-b214cb4d642c"
      },
      "execution_count": null,
      "outputs": [
        {
          "output_type": "stream",
          "name": "stdout",
          "text": [
            "Collecting gymnasium\n",
            "  Downloading gymnasium-0.29.1-py3-none-any.whl.metadata (10 kB)\n",
            "Requirement already satisfied: numpy>=1.21.0 in /usr/local/lib/python3.10/dist-packages (from gymnasium) (1.26.4)\n",
            "Requirement already satisfied: cloudpickle>=1.2.0 in /usr/local/lib/python3.10/dist-packages (from gymnasium) (2.2.1)\n",
            "Requirement already satisfied: typing-extensions>=4.3.0 in /usr/local/lib/python3.10/dist-packages (from gymnasium) (4.12.2)\n",
            "Collecting farama-notifications>=0.0.1 (from gymnasium)\n",
            "  Downloading Farama_Notifications-0.0.4-py3-none-any.whl.metadata (558 bytes)\n",
            "Downloading gymnasium-0.29.1-py3-none-any.whl (953 kB)\n",
            "\u001b[2K   \u001b[90m━━━━━━━━━━━━━━━━━━━━━━━━━━━━━━━━━━━━━━━━\u001b[0m \u001b[32m953.9/953.9 kB\u001b[0m \u001b[31m14.7 MB/s\u001b[0m eta \u001b[36m0:00:00\u001b[0m\n",
            "\u001b[?25hDownloading Farama_Notifications-0.0.4-py3-none-any.whl (2.5 kB)\n",
            "Installing collected packages: farama-notifications, gymnasium\n",
            "Successfully installed farama-notifications-0.0.4 gymnasium-0.29.1\n"
          ]
        }
      ]
    },
    {
      "cell_type": "code",
      "execution_count": null,
      "metadata": {
        "colab": {
          "base_uri": "https://localhost:8080/",
          "height": 280
        },
        "id": "aaFN_rSdkOAA",
        "outputId": "93a1cf16-350d-4a95-ca74-d88681cfef3b"
      },
      "outputs": [
        {
          "output_type": "execute_result",
          "data": {
            "text/plain": [
              "array([[[ 91, 150,  97],\n",
              "        [ 91, 150,  97],\n",
              "        [ 91, 150,  97],\n",
              "        ...,\n",
              "        [ 86, 170,  69],\n",
              "        [ 86, 170,  69],\n",
              "        [ 86, 170,  69]],\n",
              "\n",
              "       [[ 91, 150,  97],\n",
              "        [ 91, 150,  97],\n",
              "        [ 91, 150,  97],\n",
              "        ...,\n",
              "        [ 86, 170,  69],\n",
              "        [ 86, 170,  69],\n",
              "        [ 86, 170,  69]],\n",
              "\n",
              "       [[ 91, 150,  97],\n",
              "        [ 91, 150,  97],\n",
              "        [ 98, 166, 105],\n",
              "        ...,\n",
              "        [105, 182,  74],\n",
              "        [105, 182,  74],\n",
              "        [ 86, 170,  69]],\n",
              "\n",
              "       ...,\n",
              "\n",
              "       [[ 86, 170,  69],\n",
              "        [ 86, 170,  69],\n",
              "        [ 93, 188,  74],\n",
              "        ...,\n",
              "        [ 91, 150,  97],\n",
              "        [ 91, 150,  97],\n",
              "        [ 91, 150,  97]],\n",
              "\n",
              "       [[ 86, 170,  69],\n",
              "        [ 86, 170,  69],\n",
              "        [ 93, 188,  74],\n",
              "        ...,\n",
              "        [ 91, 150,  97],\n",
              "        [ 91, 150,  97],\n",
              "        [ 91, 150,  97]],\n",
              "\n",
              "       [[ 86, 170,  69],\n",
              "        [ 86, 170,  69],\n",
              "        [ 86, 170,  69],\n",
              "        ...,\n",
              "        [ 91, 150,  97],\n",
              "        [ 91, 150,  97],\n",
              "        [ 91, 150,  97]]], dtype=uint8)"
            ],
            "text/html": [
              "<style>\n",
              "      .ndarray_repr .ndarray_raw_data {\n",
              "        display: none;\n",
              "      }\n",
              "      .ndarray_repr.show_array .ndarray_raw_data {\n",
              "        display: block;\n",
              "      }\n",
              "      .ndarray_repr.show_array .ndarray_image_preview {\n",
              "        display: none;\n",
              "      }\n",
              "      </style>\n",
              "      <div id=\"id-ac97afde-55bd-489c-a2e2-773c15af61e5\" class=\"ndarray_repr\"><pre>ndarray (240, 720, 3) <button style=\"padding: 0 2px;\">show data</button></pre><img src=\"data:image/png;base64,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\" class=\"ndarray_image_preview\" /><pre class=\"ndarray_raw_data\">array([[[ 91, 150,  97],\n",
              "        [ 91, 150,  97],\n",
              "        [ 91, 150,  97],\n",
              "        ...,\n",
              "        [ 86, 170,  69],\n",
              "        [ 86, 170,  69],\n",
              "        [ 86, 170,  69]],\n",
              "\n",
              "       [[ 91, 150,  97],\n",
              "        [ 91, 150,  97],\n",
              "        [ 91, 150,  97],\n",
              "        ...,\n",
              "        [ 86, 170,  69],\n",
              "        [ 86, 170,  69],\n",
              "        [ 86, 170,  69]],\n",
              "\n",
              "       [[ 91, 150,  97],\n",
              "        [ 91, 150,  97],\n",
              "        [ 98, 166, 105],\n",
              "        ...,\n",
              "        [105, 182,  74],\n",
              "        [105, 182,  74],\n",
              "        [ 86, 170,  69]],\n",
              "\n",
              "       ...,\n",
              "\n",
              "       [[ 86, 170,  69],\n",
              "        [ 86, 170,  69],\n",
              "        [ 93, 188,  74],\n",
              "        ...,\n",
              "        [ 91, 150,  97],\n",
              "        [ 91, 150,  97],\n",
              "        [ 91, 150,  97]],\n",
              "\n",
              "       [[ 86, 170,  69],\n",
              "        [ 86, 170,  69],\n",
              "        [ 93, 188,  74],\n",
              "        ...,\n",
              "        [ 91, 150,  97],\n",
              "        [ 91, 150,  97],\n",
              "        [ 91, 150,  97]],\n",
              "\n",
              "       [[ 86, 170,  69],\n",
              "        [ 86, 170,  69],\n",
              "        [ 86, 170,  69],\n",
              "        ...,\n",
              "        [ 91, 150,  97],\n",
              "        [ 91, 150,  97],\n",
              "        [ 91, 150,  97]]], dtype=uint8)</pre></div><script>\n",
              "      (() => {\n",
              "      const titles = ['show data', 'hide data'];\n",
              "      let index = 0\n",
              "      document.querySelector('#id-ac97afde-55bd-489c-a2e2-773c15af61e5 button').onclick = (e) => {\n",
              "        document.querySelector('#id-ac97afde-55bd-489c-a2e2-773c15af61e5').classList.toggle('show_array');\n",
              "        index = (++index) % 2;\n",
              "        document.querySelector('#id-ac97afde-55bd-489c-a2e2-773c15af61e5 button').textContent = titles[index];\n",
              "        e.preventDefault();\n",
              "        e.stopPropagation();\n",
              "      }\n",
              "      })();\n",
              "    </script>"
            ]
          },
          "metadata": {},
          "execution_count": 2
        }
      ],
      "source": [
        "import gymnasium as gym\n",
        "import time\n",
        "\n",
        "env = gym.make('CliffWalking-v0', render_mode='rgb_array')\n",
        "env.reset()\n",
        "env.render()"
      ]
    },
    {
      "cell_type": "code",
      "source": [
        "env.nS, env.nA"
      ],
      "metadata": {
        "colab": {
          "base_uri": "https://localhost:8080/"
        },
        "id": "Vs6xqozclAjG",
        "outputId": "41ea2cf2-f80a-4f39-a810-27b60d2c5c17"
      },
      "execution_count": null,
      "outputs": [
        {
          "output_type": "stream",
          "name": "stderr",
          "text": [
            "/usr/local/lib/python3.10/dist-packages/gymnasium/core.py:311: UserWarning: \u001b[33mWARN: env.nS to get variables from other wrappers is deprecated and will be removed in v1.0, to get this variable you can do `env.unwrapped.nS` for environment variables or `env.get_wrapper_attr('nS')` that will search the reminding wrappers.\u001b[0m\n",
            "  logger.warn(\n",
            "/usr/local/lib/python3.10/dist-packages/gymnasium/core.py:311: UserWarning: \u001b[33mWARN: env.nA to get variables from other wrappers is deprecated and will be removed in v1.0, to get this variable you can do `env.unwrapped.nA` for environment variables or `env.get_wrapper_attr('nA')` that will search the reminding wrappers.\u001b[0m\n",
            "  logger.warn(\n"
          ]
        },
        {
          "output_type": "execute_result",
          "data": {
            "text/plain": [
              "(48, 4)"
            ]
          },
          "metadata": {},
          "execution_count": 3
        }
      ]
    },
    {
      "cell_type": "markdown",
      "source": [
        "There are 48 states and 4 actions in this environment."
      ],
      "metadata": {
        "id": "k8lu_H_FsIYW"
      }
    },
    {
      "cell_type": "code",
      "source": [
        "env.step(0) # action 0 is up\n",
        "env.render()"
      ],
      "metadata": {
        "colab": {
          "base_uri": "https://localhost:8080/",
          "height": 280
        },
        "id": "k0TDn8_NsCAh",
        "outputId": "4820feeb-e4b8-4141-ba76-935f61c01643"
      },
      "execution_count": null,
      "outputs": [
        {
          "output_type": "execute_result",
          "data": {
            "text/plain": [
              "array([[[ 91, 150,  97],\n",
              "        [ 91, 150,  97],\n",
              "        [ 91, 150,  97],\n",
              "        ...,\n",
              "        [ 86, 170,  69],\n",
              "        [ 86, 170,  69],\n",
              "        [ 86, 170,  69]],\n",
              "\n",
              "       [[ 91, 150,  97],\n",
              "        [ 91, 150,  97],\n",
              "        [ 91, 150,  97],\n",
              "        ...,\n",
              "        [ 86, 170,  69],\n",
              "        [ 86, 170,  69],\n",
              "        [ 86, 170,  69]],\n",
              "\n",
              "       [[ 91, 150,  97],\n",
              "        [ 91, 150,  97],\n",
              "        [ 98, 166, 105],\n",
              "        ...,\n",
              "        [105, 182,  74],\n",
              "        [105, 182,  74],\n",
              "        [ 86, 170,  69]],\n",
              "\n",
              "       ...,\n",
              "\n",
              "       [[ 86, 170,  69],\n",
              "        [ 86, 170,  69],\n",
              "        [ 93, 188,  74],\n",
              "        ...,\n",
              "        [ 91, 150,  97],\n",
              "        [ 91, 150,  97],\n",
              "        [ 91, 150,  97]],\n",
              "\n",
              "       [[ 86, 170,  69],\n",
              "        [ 86, 170,  69],\n",
              "        [ 93, 188,  74],\n",
              "        ...,\n",
              "        [ 91, 150,  97],\n",
              "        [ 91, 150,  97],\n",
              "        [ 91, 150,  97]],\n",
              "\n",
              "       [[ 86, 170,  69],\n",
              "        [ 86, 170,  69],\n",
              "        [ 86, 170,  69],\n",
              "        ...,\n",
              "        [ 91, 150,  97],\n",
              "        [ 91, 150,  97],\n",
              "        [ 91, 150,  97]]], dtype=uint8)"
            ],
            "text/html": [
              "<style>\n",
              "      .ndarray_repr .ndarray_raw_data {\n",
              "        display: none;\n",
              "      }\n",
              "      .ndarray_repr.show_array .ndarray_raw_data {\n",
              "        display: block;\n",
              "      }\n",
              "      .ndarray_repr.show_array .ndarray_image_preview {\n",
              "        display: none;\n",
              "      }\n",
              "      </style>\n",
              "      <div id=\"id-c08c003d-6c6f-487c-9366-5825c5cdf912\" class=\"ndarray_repr\"><pre>ndarray (240, 720, 3) <button style=\"padding: 0 2px;\">show data</button></pre><img src=\"data:image/png;base64,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\" class=\"ndarray_image_preview\" /><pre class=\"ndarray_raw_data\">array([[[ 91, 150,  97],\n",
              "        [ 91, 150,  97],\n",
              "        [ 91, 150,  97],\n",
              "        ...,\n",
              "        [ 86, 170,  69],\n",
              "        [ 86, 170,  69],\n",
              "        [ 86, 170,  69]],\n",
              "\n",
              "       [[ 91, 150,  97],\n",
              "        [ 91, 150,  97],\n",
              "        [ 91, 150,  97],\n",
              "        ...,\n",
              "        [ 86, 170,  69],\n",
              "        [ 86, 170,  69],\n",
              "        [ 86, 170,  69]],\n",
              "\n",
              "       [[ 91, 150,  97],\n",
              "        [ 91, 150,  97],\n",
              "        [ 98, 166, 105],\n",
              "        ...,\n",
              "        [105, 182,  74],\n",
              "        [105, 182,  74],\n",
              "        [ 86, 170,  69]],\n",
              "\n",
              "       ...,\n",
              "\n",
              "       [[ 86, 170,  69],\n",
              "        [ 86, 170,  69],\n",
              "        [ 93, 188,  74],\n",
              "        ...,\n",
              "        [ 91, 150,  97],\n",
              "        [ 91, 150,  97],\n",
              "        [ 91, 150,  97]],\n",
              "\n",
              "       [[ 86, 170,  69],\n",
              "        [ 86, 170,  69],\n",
              "        [ 93, 188,  74],\n",
              "        ...,\n",
              "        [ 91, 150,  97],\n",
              "        [ 91, 150,  97],\n",
              "        [ 91, 150,  97]],\n",
              "\n",
              "       [[ 86, 170,  69],\n",
              "        [ 86, 170,  69],\n",
              "        [ 86, 170,  69],\n",
              "        ...,\n",
              "        [ 91, 150,  97],\n",
              "        [ 91, 150,  97],\n",
              "        [ 91, 150,  97]]], dtype=uint8)</pre></div><script>\n",
              "      (() => {\n",
              "      const titles = ['show data', 'hide data'];\n",
              "      let index = 0\n",
              "      document.querySelector('#id-c08c003d-6c6f-487c-9366-5825c5cdf912 button').onclick = (e) => {\n",
              "        document.querySelector('#id-c08c003d-6c6f-487c-9366-5825c5cdf912').classList.toggle('show_array');\n",
              "        index = (++index) % 2;\n",
              "        document.querySelector('#id-c08c003d-6c6f-487c-9366-5825c5cdf912 button').textContent = titles[index];\n",
              "        e.preventDefault();\n",
              "        e.stopPropagation();\n",
              "      }\n",
              "      })();\n",
              "    </script>"
            ]
          },
          "metadata": {},
          "execution_count": 4
        }
      ]
    },
    {
      "cell_type": "code",
      "source": [
        "env.step(1) # action 1 is right\n",
        "env.render()"
      ],
      "metadata": {
        "colab": {
          "base_uri": "https://localhost:8080/",
          "height": 280
        },
        "id": "1xFY3FKNtIvS",
        "outputId": "e7f7c3af-a4e9-4796-ac39-527fe57e893f"
      },
      "execution_count": null,
      "outputs": [
        {
          "output_type": "execute_result",
          "data": {
            "text/plain": [
              "array([[[ 91, 150,  97],\n",
              "        [ 91, 150,  97],\n",
              "        [ 91, 150,  97],\n",
              "        ...,\n",
              "        [ 86, 170,  69],\n",
              "        [ 86, 170,  69],\n",
              "        [ 86, 170,  69]],\n",
              "\n",
              "       [[ 91, 150,  97],\n",
              "        [ 91, 150,  97],\n",
              "        [ 91, 150,  97],\n",
              "        ...,\n",
              "        [ 86, 170,  69],\n",
              "        [ 86, 170,  69],\n",
              "        [ 86, 170,  69]],\n",
              "\n",
              "       [[ 91, 150,  97],\n",
              "        [ 91, 150,  97],\n",
              "        [ 98, 166, 105],\n",
              "        ...,\n",
              "        [105, 182,  74],\n",
              "        [105, 182,  74],\n",
              "        [ 86, 170,  69]],\n",
              "\n",
              "       ...,\n",
              "\n",
              "       [[ 86, 170,  69],\n",
              "        [ 86, 170,  69],\n",
              "        [ 93, 188,  74],\n",
              "        ...,\n",
              "        [ 91, 150,  97],\n",
              "        [ 91, 150,  97],\n",
              "        [ 91, 150,  97]],\n",
              "\n",
              "       [[ 86, 170,  69],\n",
              "        [ 86, 170,  69],\n",
              "        [ 93, 188,  74],\n",
              "        ...,\n",
              "        [ 91, 150,  97],\n",
              "        [ 91, 150,  97],\n",
              "        [ 91, 150,  97]],\n",
              "\n",
              "       [[ 86, 170,  69],\n",
              "        [ 86, 170,  69],\n",
              "        [ 86, 170,  69],\n",
              "        ...,\n",
              "        [ 91, 150,  97],\n",
              "        [ 91, 150,  97],\n",
              "        [ 91, 150,  97]]], dtype=uint8)"
            ],
            "text/html": [
              "<style>\n",
              "      .ndarray_repr .ndarray_raw_data {\n",
              "        display: none;\n",
              "      }\n",
              "      .ndarray_repr.show_array .ndarray_raw_data {\n",
              "        display: block;\n",
              "      }\n",
              "      .ndarray_repr.show_array .ndarray_image_preview {\n",
              "        display: none;\n",
              "      }\n",
              "      </style>\n",
              "      <div id=\"id-f7d7640f-0513-4637-928d-e1f38e80174b\" class=\"ndarray_repr\"><pre>ndarray (240, 720, 3) <button style=\"padding: 0 2px;\">show data</button></pre><img src=\"data:image/png;base64,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\" class=\"ndarray_image_preview\" /><pre class=\"ndarray_raw_data\">array([[[ 91, 150,  97],\n",
              "        [ 91, 150,  97],\n",
              "        [ 91, 150,  97],\n",
              "        ...,\n",
              "        [ 86, 170,  69],\n",
              "        [ 86, 170,  69],\n",
              "        [ 86, 170,  69]],\n",
              "\n",
              "       [[ 91, 150,  97],\n",
              "        [ 91, 150,  97],\n",
              "        [ 91, 150,  97],\n",
              "        ...,\n",
              "        [ 86, 170,  69],\n",
              "        [ 86, 170,  69],\n",
              "        [ 86, 170,  69]],\n",
              "\n",
              "       [[ 91, 150,  97],\n",
              "        [ 91, 150,  97],\n",
              "        [ 98, 166, 105],\n",
              "        ...,\n",
              "        [105, 182,  74],\n",
              "        [105, 182,  74],\n",
              "        [ 86, 170,  69]],\n",
              "\n",
              "       ...,\n",
              "\n",
              "       [[ 86, 170,  69],\n",
              "        [ 86, 170,  69],\n",
              "        [ 93, 188,  74],\n",
              "        ...,\n",
              "        [ 91, 150,  97],\n",
              "        [ 91, 150,  97],\n",
              "        [ 91, 150,  97]],\n",
              "\n",
              "       [[ 86, 170,  69],\n",
              "        [ 86, 170,  69],\n",
              "        [ 93, 188,  74],\n",
              "        ...,\n",
              "        [ 91, 150,  97],\n",
              "        [ 91, 150,  97],\n",
              "        [ 91, 150,  97]],\n",
              "\n",
              "       [[ 86, 170,  69],\n",
              "        [ 86, 170,  69],\n",
              "        [ 86, 170,  69],\n",
              "        ...,\n",
              "        [ 91, 150,  97],\n",
              "        [ 91, 150,  97],\n",
              "        [ 91, 150,  97]]], dtype=uint8)</pre></div><script>\n",
              "      (() => {\n",
              "      const titles = ['show data', 'hide data'];\n",
              "      let index = 0\n",
              "      document.querySelector('#id-f7d7640f-0513-4637-928d-e1f38e80174b button').onclick = (e) => {\n",
              "        document.querySelector('#id-f7d7640f-0513-4637-928d-e1f38e80174b').classList.toggle('show_array');\n",
              "        index = (++index) % 2;\n",
              "        document.querySelector('#id-f7d7640f-0513-4637-928d-e1f38e80174b button').textContent = titles[index];\n",
              "        e.preventDefault();\n",
              "        e.stopPropagation();\n",
              "      }\n",
              "      })();\n",
              "    </script>"
            ]
          },
          "metadata": {},
          "execution_count": 5
        }
      ]
    },
    {
      "cell_type": "markdown",
      "source": [
        "Create Q table."
      ],
      "metadata": {
        "id": "fH9CeYPetg2Y"
      }
    },
    {
      "cell_type": "code",
      "source": [
        "import numpy as np\n",
        "\n",
        "Q = np.zeros((env.nS, env.nA))\n",
        "print(Q)\n",
        "print(Q.shape)"
      ],
      "metadata": {
        "colab": {
          "base_uri": "https://localhost:8080/"
        },
        "id": "Azx3Q9o7tNC1",
        "outputId": "a5498583-2a63-40fd-e9ad-902c5c7d0843"
      },
      "execution_count": null,
      "outputs": [
        {
          "output_type": "stream",
          "name": "stdout",
          "text": [
            "[[0. 0. 0. 0.]\n",
            " [0. 0. 0. 0.]\n",
            " [0. 0. 0. 0.]\n",
            " [0. 0. 0. 0.]\n",
            " [0. 0. 0. 0.]\n",
            " [0. 0. 0. 0.]\n",
            " [0. 0. 0. 0.]\n",
            " [0. 0. 0. 0.]\n",
            " [0. 0. 0. 0.]\n",
            " [0. 0. 0. 0.]\n",
            " [0. 0. 0. 0.]\n",
            " [0. 0. 0. 0.]\n",
            " [0. 0. 0. 0.]\n",
            " [0. 0. 0. 0.]\n",
            " [0. 0. 0. 0.]\n",
            " [0. 0. 0. 0.]\n",
            " [0. 0. 0. 0.]\n",
            " [0. 0. 0. 0.]\n",
            " [0. 0. 0. 0.]\n",
            " [0. 0. 0. 0.]\n",
            " [0. 0. 0. 0.]\n",
            " [0. 0. 0. 0.]\n",
            " [0. 0. 0. 0.]\n",
            " [0. 0. 0. 0.]\n",
            " [0. 0. 0. 0.]\n",
            " [0. 0. 0. 0.]\n",
            " [0. 0. 0. 0.]\n",
            " [0. 0. 0. 0.]\n",
            " [0. 0. 0. 0.]\n",
            " [0. 0. 0. 0.]\n",
            " [0. 0. 0. 0.]\n",
            " [0. 0. 0. 0.]\n",
            " [0. 0. 0. 0.]\n",
            " [0. 0. 0. 0.]\n",
            " [0. 0. 0. 0.]\n",
            " [0. 0. 0. 0.]\n",
            " [0. 0. 0. 0.]\n",
            " [0. 0. 0. 0.]\n",
            " [0. 0. 0. 0.]\n",
            " [0. 0. 0. 0.]\n",
            " [0. 0. 0. 0.]\n",
            " [0. 0. 0. 0.]\n",
            " [0. 0. 0. 0.]\n",
            " [0. 0. 0. 0.]\n",
            " [0. 0. 0. 0.]\n",
            " [0. 0. 0. 0.]\n",
            " [0. 0. 0. 0.]\n",
            " [0. 0. 0. 0.]]\n",
            "(48, 4)\n"
          ]
        }
      ]
    },
    {
      "cell_type": "code",
      "source": [
        "\n",
        "# Q = np.zeros((env.nS, env.nA))\n",
        "# episode=[]\n",
        "# state, _ = env.reset()\n",
        "# for i in range(5):\n",
        "#   value_noise = np.random.randn(1, env.nA)*(1./(i+1))\n",
        "#   action = np.argmax(Q[state] + value_noise) # choose the best action\n",
        "#   next_state, reward, done, _, _ = env.step(action) # take the action, move to a new state, and get reward\n",
        "#   Q[state, action] = reward + 0.95 * np.max(Q[next_state]) # update Q table\n",
        "#   state = next_state\n",
        "#   print(state)\n",
        "\n",
        "# print(state)\n",
        "# print(len(episode))\n",
        "# print(episode)\n",
        "\n"
      ],
      "metadata": {
        "id": "fQf6FEHtxeSt"
      },
      "execution_count": null,
      "outputs": []
    },
    {
      "cell_type": "markdown",
      "source": [
        "Go through episodes in the environment and update Q."
      ],
      "metadata": {
        "id": "vBLeaEtlub2A"
      }
    },
    {
      "cell_type": "code",
      "source": [
        "num_episodes = 50\n",
        "gamma = 0.95\n",
        "\n",
        "Q = np.zeros((env.nS, env.nA))\n",
        "\n",
        "rewards = [] # total reward of each episode\n",
        "best_reward = -2000 # best reward across all episodes\n",
        "best_episode = []\n",
        "\n",
        "for i in range(num_episodes):\n",
        "  episode = [36] # animation for current episode, start with the start location\n",
        "  episode_reward = 0\n",
        "  state, _ = env.reset()   # for each episode, reset environment\n",
        "  done = False\n",
        "  while not done:\n",
        "    value_noise = np.random.randn(1, env.nA)*(1./(i+1))\n",
        "    action = np.argmax(Q[state] + value_noise) # choose the best action\n",
        "    next_state, reward, done, _, _ = env.step(action) # take the action, move to a new state, and get reward\n",
        "    Q[state, action] = reward + gamma * np.max(Q[next_state]) # update Q table\n",
        "    state = next_state\n",
        "\n",
        "    episode_reward += reward\n",
        "    episode.append(state)\n",
        "\n",
        "  if (i+1) % 1 == 0:\n",
        "    print(f'Episode {i+1} reward: {episode_reward}')\n",
        "\n",
        "  if episode_reward > best_reward:\n",
        "    best_reward = episode_reward\n",
        "    best_episode = episode\n",
        "\n",
        "  rewards.append(episode_reward)\n",
        "\n",
        "print(Q)\n",
        "print('Average reward for the first 10 episodes:', np.mean(rewards[:10]))\n",
        "print('Average reward for the last 10 episodes:', np.mean(rewards[-10:]))\n",
        "\n"
      ],
      "metadata": {
        "colab": {
          "base_uri": "https://localhost:8080/"
        },
        "id": "UxZWUsPdtV5w",
        "outputId": "fdf48be3-cd0e-4c28-be08-cdb826c247f3"
      },
      "execution_count": null,
      "outputs": [
        {
          "output_type": "stream",
          "name": "stdout",
          "text": [
            "Episode 1 reward: -1527\n",
            "Episode 2 reward: -44\n",
            "Episode 3 reward: -90\n",
            "Episode 4 reward: -83\n",
            "Episode 5 reward: -49\n",
            "Episode 6 reward: -79\n",
            "Episode 7 reward: -42\n",
            "Episode 8 reward: -59\n",
            "Episode 9 reward: -35\n",
            "Episode 10 reward: -85\n",
            "Episode 11 reward: -45\n",
            "Episode 12 reward: -21\n",
            "Episode 13 reward: -23\n",
            "Episode 14 reward: -56\n",
            "Episode 15 reward: -24\n",
            "Episode 16 reward: -27\n",
            "Episode 17 reward: -31\n",
            "Episode 18 reward: -32\n",
            "Episode 19 reward: -26\n",
            "Episode 20 reward: -26\n",
            "Episode 21 reward: -16\n",
            "Episode 22 reward: -13\n",
            "Episode 23 reward: -15\n",
            "Episode 24 reward: -22\n",
            "Episode 25 reward: -35\n",
            "Episode 26 reward: -33\n",
            "Episode 27 reward: -17\n",
            "Episode 28 reward: -14\n",
            "Episode 29 reward: -15\n",
            "Episode 30 reward: -19\n",
            "Episode 31 reward: -13\n",
            "Episode 32 reward: -13\n",
            "Episode 33 reward: -13\n",
            "Episode 34 reward: -13\n",
            "Episode 35 reward: -13\n",
            "Episode 36 reward: -13\n",
            "Episode 37 reward: -13\n",
            "Episode 38 reward: -13\n",
            "Episode 39 reward: -13\n",
            "Episode 40 reward: -13\n",
            "Episode 41 reward: -13\n",
            "Episode 42 reward: -13\n",
            "Episode 43 reward: -13\n",
            "Episode 44 reward: -13\n",
            "Episode 45 reward: -13\n",
            "Episode 46 reward: -13\n",
            "Episode 47 reward: -13\n",
            "Episode 48 reward: -13\n",
            "Episode 49 reward: -13\n",
            "Episode 50 reward: -13\n",
            "[[  -9.19279825   -9.19279825   -9.19279825   -8.62399815]\n",
            " [  -8.62399815   -8.62399815   -9.19279825   -8.62399815]\n",
            " [  -8.62399815   -8.62399815   -8.62399815   -8.02526122]\n",
            " [  -8.62399815   -8.02526122   -8.62399815   -8.62399815]\n",
            " [  -8.02526122   -7.39501181   -8.02526122   -8.02526122]\n",
            " [  -7.39501181   -6.73159137   -6.73159137   -8.02526122]\n",
            " [  -6.03325408   -6.03325408   -6.73159137   -7.39501181]\n",
            " [  -6.03325408   -5.29816219   -6.03325408   -6.03325408]\n",
            " [  -4.52438125   -5.29816219   -5.29816219   -6.03325408]\n",
            " [  -4.52438125   -4.52438125   -4.52438125   -5.29816219]\n",
            " [  -3.709875     -3.709875     -3.709875     -3.709875  ]\n",
            " [  -3.709875     -3.709875     -2.8525       -2.8525    ]\n",
            " [  -9.19279825   -9.73315833   -9.19279825   -9.19279825]\n",
            " [  -9.19279825   -9.19279825   -9.19279825   -9.73315833]\n",
            " [  -8.62399815   -8.62399815   -8.62399815   -9.19279825]\n",
            " [  -8.02526122   -8.02526122   -8.02526122   -8.62399815]\n",
            " [  -8.02526122   -7.39501181   -7.39501181   -8.62399815]\n",
            " [  -7.39501181   -6.73159137   -6.73159137   -6.73159137]\n",
            " [  -6.73159137   -6.03325408   -6.03325408   -6.73159137]\n",
            " [  -6.03325408   -5.29816219   -5.29816219   -5.29816219]\n",
            " [  -5.29816219   -4.52438125   -4.52438125   -4.52438125]\n",
            " [  -4.52438125   -3.709875     -3.709875     -5.29816219]\n",
            " [  -4.52438125   -2.8525       -2.8525       -3.709875  ]\n",
            " [  -2.8525       -2.8525       -1.95         -2.8525    ]\n",
            " [  -9.73315833   -9.19279825   -9.73315833   -9.73315833]\n",
            " [  -9.73315833   -8.62399815 -100.95         -9.19279825]\n",
            " [  -8.62399815   -8.02526122 -102.709875     -9.19279825]\n",
            " [  -8.02526122   -7.39501181 -102.709875     -8.62399815]\n",
            " [  -7.39501181   -6.73159137 -100.           -7.39501181]\n",
            " [  -6.73159137   -6.03325408 -101.8525       -7.39501181]\n",
            " [  -6.73159137   -5.29816219 -101.8525       -6.03325408]\n",
            " [  -5.29816219   -4.52438125 -102.709875     -5.29816219]\n",
            " [  -4.52438125   -3.709875   -102.709875     -5.29816219]\n",
            " [  -3.709875     -2.8525     -102.709875     -3.709875  ]\n",
            " [  -3.709875     -1.95       -103.52438125   -3.709875  ]\n",
            " [  -1.95         -1.95         -1.           -1.95      ]\n",
            " [  -9.73315833 -100.          -10.24650042  -10.24650042]\n",
            " [   0.            0.            0.            0.        ]\n",
            " [   0.            0.            0.            0.        ]\n",
            " [   0.            0.            0.            0.        ]\n",
            " [   0.            0.            0.            0.        ]\n",
            " [   0.            0.            0.            0.        ]\n",
            " [   0.            0.            0.            0.        ]\n",
            " [   0.            0.            0.            0.        ]\n",
            " [   0.            0.            0.            0.        ]\n",
            " [   0.            0.            0.            0.        ]\n",
            " [   0.            0.            0.            0.        ]\n",
            " [   0.            0.            0.            0.        ]]\n",
            "Average reward for the first 10 episodes: -209.3\n",
            "Average reward for the last 10 episodes: -13.0\n"
          ]
        }
      ]
    },
    {
      "cell_type": "markdown",
      "source": [
        "States that the agent went through for the best episode."
      ],
      "metadata": {
        "id": "AlZS4eZRB104"
      }
    },
    {
      "cell_type": "code",
      "source": [
        "print(len(best_episode))\n",
        "print(best_episode)\n",
        "print(best_reward)"
      ],
      "metadata": {
        "id": "VTha9H-4ux4d",
        "colab": {
          "base_uri": "https://localhost:8080/"
        },
        "outputId": "a155d266-36f3-4deb-ae1c-c31353e18620"
      },
      "execution_count": null,
      "outputs": [
        {
          "output_type": "stream",
          "name": "stdout",
          "text": [
            "14\n",
            "[36, 24, 25, 26, 27, 28, 29, 30, 31, 32, 33, 34, 35, 47]\n",
            "-13\n"
          ]
        }
      ]
    },
    {
      "cell_type": "code",
      "source": [
        "env.render()"
      ],
      "metadata": {
        "colab": {
          "base_uri": "https://localhost:8080/",
          "height": 280
        },
        "id": "FkU5T-UsTWB1",
        "outputId": "0d4b2854-e194-4362-ce4e-136d97527616"
      },
      "execution_count": null,
      "outputs": [
        {
          "output_type": "execute_result",
          "data": {
            "text/plain": [
              "array([[[ 91, 150,  97],\n",
              "        [ 91, 150,  97],\n",
              "        [ 91, 150,  97],\n",
              "        ...,\n",
              "        [ 86, 170,  69],\n",
              "        [ 86, 170,  69],\n",
              "        [ 86, 170,  69]],\n",
              "\n",
              "       [[ 91, 150,  97],\n",
              "        [ 91, 150,  97],\n",
              "        [ 91, 150,  97],\n",
              "        ...,\n",
              "        [ 86, 170,  69],\n",
              "        [ 86, 170,  69],\n",
              "        [ 86, 170,  69]],\n",
              "\n",
              "       [[ 91, 150,  97],\n",
              "        [ 91, 150,  97],\n",
              "        [ 98, 166, 105],\n",
              "        ...,\n",
              "        [105, 182,  74],\n",
              "        [105, 182,  74],\n",
              "        [ 86, 170,  69]],\n",
              "\n",
              "       ...,\n",
              "\n",
              "       [[ 86, 170,  69],\n",
              "        [ 86, 170,  69],\n",
              "        [ 93, 188,  74],\n",
              "        ...,\n",
              "        [ 91, 150,  97],\n",
              "        [ 91, 150,  97],\n",
              "        [ 91, 150,  97]],\n",
              "\n",
              "       [[ 86, 170,  69],\n",
              "        [ 86, 170,  69],\n",
              "        [ 93, 188,  74],\n",
              "        ...,\n",
              "        [ 91, 150,  97],\n",
              "        [ 91, 150,  97],\n",
              "        [ 91, 150,  97]],\n",
              "\n",
              "       [[ 86, 170,  69],\n",
              "        [ 86, 170,  69],\n",
              "        [ 86, 170,  69],\n",
              "        ...,\n",
              "        [ 91, 150,  97],\n",
              "        [ 91, 150,  97],\n",
              "        [ 91, 150,  97]]], dtype=uint8)"
            ],
            "text/html": [
              "<style>\n",
              "      .ndarray_repr .ndarray_raw_data {\n",
              "        display: none;\n",
              "      }\n",
              "      .ndarray_repr.show_array .ndarray_raw_data {\n",
              "        display: block;\n",
              "      }\n",
              "      .ndarray_repr.show_array .ndarray_image_preview {\n",
              "        display: none;\n",
              "      }\n",
              "      </style>\n",
              "      <div id=\"id-4ee3acf3-d513-4eb3-9115-a8d89b426e42\" class=\"ndarray_repr\"><pre>ndarray (240, 720, 3) <button style=\"padding: 0 2px;\">show data</button></pre><img src=\"data:image/png;base64,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\" class=\"ndarray_image_preview\" /><pre class=\"ndarray_raw_data\">array([[[ 91, 150,  97],\n",
              "        [ 91, 150,  97],\n",
              "        [ 91, 150,  97],\n",
              "        ...,\n",
              "        [ 86, 170,  69],\n",
              "        [ 86, 170,  69],\n",
              "        [ 86, 170,  69]],\n",
              "\n",
              "       [[ 91, 150,  97],\n",
              "        [ 91, 150,  97],\n",
              "        [ 91, 150,  97],\n",
              "        ...,\n",
              "        [ 86, 170,  69],\n",
              "        [ 86, 170,  69],\n",
              "        [ 86, 170,  69]],\n",
              "\n",
              "       [[ 91, 150,  97],\n",
              "        [ 91, 150,  97],\n",
              "        [ 98, 166, 105],\n",
              "        ...,\n",
              "        [105, 182,  74],\n",
              "        [105, 182,  74],\n",
              "        [ 86, 170,  69]],\n",
              "\n",
              "       ...,\n",
              "\n",
              "       [[ 86, 170,  69],\n",
              "        [ 86, 170,  69],\n",
              "        [ 93, 188,  74],\n",
              "        ...,\n",
              "        [ 91, 150,  97],\n",
              "        [ 91, 150,  97],\n",
              "        [ 91, 150,  97]],\n",
              "\n",
              "       [[ 86, 170,  69],\n",
              "        [ 86, 170,  69],\n",
              "        [ 93, 188,  74],\n",
              "        ...,\n",
              "        [ 91, 150,  97],\n",
              "        [ 91, 150,  97],\n",
              "        [ 91, 150,  97]],\n",
              "\n",
              "       [[ 86, 170,  69],\n",
              "        [ 86, 170,  69],\n",
              "        [ 86, 170,  69],\n",
              "        ...,\n",
              "        [ 91, 150,  97],\n",
              "        [ 91, 150,  97],\n",
              "        [ 91, 150,  97]]], dtype=uint8)</pre></div><script>\n",
              "      (() => {\n",
              "      const titles = ['show data', 'hide data'];\n",
              "      let index = 0\n",
              "      document.querySelector('#id-4ee3acf3-d513-4eb3-9115-a8d89b426e42 button').onclick = (e) => {\n",
              "        document.querySelector('#id-4ee3acf3-d513-4eb3-9115-a8d89b426e42').classList.toggle('show_array');\n",
              "        index = (++index) % 2;\n",
              "        document.querySelector('#id-4ee3acf3-d513-4eb3-9115-a8d89b426e42 button').textContent = titles[index];\n",
              "        e.preventDefault();\n",
              "        e.stopPropagation();\n",
              "      }\n",
              "      })();\n",
              "    </script>"
            ]
          },
          "metadata": {},
          "execution_count": 10
        }
      ]
    },
    {
      "cell_type": "markdown",
      "source": [
        "In the future, I will:\n",
        "\n",
        "*   Figure out how to make visualization to see the player moving step by step in the environment rather than just listing out the states it's going through\n",
        "*   Make a more complicated environment such as a tilted cliff, and make the state and action space more complicated by making them continuous rather than discrete -> will need to use deep learning\n",
        "\n"
      ],
      "metadata": {
        "id": "zqaF8dR_p-tO"
      }
    },
    {
      "cell_type": "code",
      "source": [],
      "metadata": {
        "id": "ZiowV2OQCOB-"
      },
      "execution_count": null,
      "outputs": []
    }
  ]
}